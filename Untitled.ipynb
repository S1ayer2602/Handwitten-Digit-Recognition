{
 "cells": [
  {
   "cell_type": "code",
   "execution_count": 120,
   "id": "12dda331",
   "metadata": {},
   "outputs": [],
   "source": [
    "import pandas as pd\n",
    "import numpy as np\n",
    "import matplotlib.pyplot as plt\n",
    "import tensorflow as tf\n",
    "import keras"
   ]
  },
  {
   "cell_type": "code",
   "execution_count": 121,
   "id": "2c739c0b",
   "metadata": {},
   "outputs": [],
   "source": [
    "(X_train, y_train), (X_test, y_test) = keras.datasets.mnist.load_data()"
   ]
  },
  {
   "cell_type": "code",
   "execution_count": 122,
   "id": "6d8b3337",
   "metadata": {},
   "outputs": [
    {
     "data": {
      "text/plain": [
       "(60000, 28, 28)"
      ]
     },
     "execution_count": 122,
     "metadata": {},
     "output_type": "execute_result"
    }
   ],
   "source": [
    "X_train.shape"
   ]
  },
  {
   "cell_type": "code",
   "execution_count": 123,
   "id": "f001719f",
   "metadata": {},
   "outputs": [
    {
     "data": {
      "text/plain": [
       "(10000, 28, 28)"
      ]
     },
     "execution_count": 123,
     "metadata": {},
     "output_type": "execute_result"
    }
   ],
   "source": [
    "X_test.shape"
   ]
  },
  {
   "cell_type": "code",
   "execution_count": 124,
   "id": "6ea6b128",
   "metadata": {},
   "outputs": [
    {
     "data": {
      "text/plain": [
       "<matplotlib.image.AxesImage at 0x212570c05b0>"
      ]
     },
     "execution_count": 124,
     "metadata": {},
     "output_type": "execute_result"
    },
    {
     "data": {
      "image/png": "[encoded data removed]",
      "text/plain": [
       "<Figure size 640x480 with 1 Axes>"
      ]
     },
     "metadata": {},
     "output_type": "display_data"
    }
   ],
   "source": [
    "plt.imshow(X_train[0])"
   ]
  },
  {
   "cell_type": "code",
   "execution_count": 125,
   "id": "b8c3f6d1",
   "metadata": {},
   "outputs": [
    {
     "data": {
      "text/plain": [
       "60000"
      ]
     },
     "execution_count": 125,
     "metadata": {},
     "output_type": "execute_result"
    }
   ],
   "source": [
    "X_train.shape[0]"
   ]
  },
  {
   "cell_type": "code",
   "execution_count": 126,
   "id": "a70a1b6c",
   "metadata": {},
   "outputs": [],
   "source": [
    "X_train = X_train.reshape(60000,28,28,1)\n",
    "X_test = X_test.reshape(10000,28,28,1)"
   ]
  },
  {
   "cell_type": "code",
   "execution_count": 127,
   "id": "fe9330a6",
   "metadata": {},
   "outputs": [
    {
     "name": "stdout",
     "output_type": "stream",
     "text": [
      "X_train shape: (60000, 28, 28, 1)\n",
      "X_test shape: (10000, 28, 28, 1)\n"
     ]
    }
   ],
   "source": [
    "print('X_train shape:',X_train.shape)\n",
    "print('X_test shape:',X_test.shape)"
   ]
  },
  {
   "cell_type": "code",
   "execution_count": 128,
   "id": "c913ee56",
   "metadata": {},
   "outputs": [],
   "source": [
    "x_train = x_train.astype('float32')\n",
    "x_test = x_test.astype('float32')\n",
    "X_train = X_train/255\n",
    "X_test = X_test/255"
   ]
  },
  {
   "cell_type": "code",
   "execution_count": 129,
   "id": "bee21489",
   "metadata": {},
   "outputs": [],
   "source": [
    "y_train = keras.utils.to_categorical(y_train, 10)\n",
    "y_test = keras.utils.to_categorical(y_test, 10)"
   ]
  },
  {
   "cell_type": "code",
   "execution_count": 130,
   "id": "99d89af6",
   "metadata": {},
   "outputs": [
    {
     "data": {
      "text/plain": [
       "numpy.float64"
      ]
     },
     "execution_count": 130,
     "metadata": {},
     "output_type": "execute_result"
    }
   ],
   "source": [
    "type(X_train[0][0][0][0])"
   ]
  },
  {
   "cell_type": "code",
   "execution_count": 131,
   "id": "5d3bd536",
   "metadata": {},
   "outputs": [],
   "source": [
    "model = keras.Sequential([\n",
    "    #cnn\n",
    "    keras.layers.Conv2D(filters=32, kernel_size=(3,3), activation='relu', input_shape=(28,28,1)),\n",
    "    keras.layers.Conv2D(filters=64, kernel_size=(3,3), activation='relu'),\n",
    "    keras.layers.MaxPooling2D(pool_size=(2,2)),\n",
    "    keras.layers.Dropout(0.25),\n",
    "    #dense\n",
    "    keras.layers.Flatten(),\n",
    "    keras.layers.Dense(256, activation='relu'),\n",
    "    keras.layers.Dropout(0.5),\n",
    "    keras.layers.Dense(10,activation='softmax')\n",
    "    \n",
    "])\n",
    "\n",
    "model.compile(optimizer=keras.optimizers.Adadelta(),loss='categorical_crossentropy',metrics=['accuracy'])"
   ]
  },
  {
   "cell_type": "code",
   "execution_count": 132,
   "id": "992c39c2",
   "metadata": {},
   "outputs": [
    {
     "name": "stdout",
     "output_type": "stream",
     "text": [
      "Epoch 1/15\n",
      "469/469 [==============================] - 66s 140ms/step - loss: 2.2673 - accuracy: 0.1778 - val_loss: 2.2159 - val_accuracy: 0.4930\n",
      "Epoch 2/15\n",
      "469/469 [==============================] - 64s 137ms/step - loss: 2.1825 - accuracy: 0.3411 - val_loss: 2.1102 - val_accuracy: 0.6330\n",
      "Epoch 3/15\n",
      "469/469 [==============================] - 66s 141ms/step - loss: 2.0692 - accuracy: 0.4748 - val_loss: 1.9608 - val_accuracy: 0.7088\n",
      "Epoch 4/15\n",
      "469/469 [==============================] - 66s 141ms/step - loss: 1.9092 - accuracy: 0.5694 - val_loss: 1.7554 - val_accuracy: 0.7478\n",
      "Epoch 5/15\n",
      "469/469 [==============================] - 67s 143ms/step - loss: 1.7022 - accuracy: 0.6249 - val_loss: 1.5010 - val_accuracy: 0.7796\n",
      "Epoch 6/15\n",
      "469/469 [==============================] - 67s 143ms/step - loss: 1.4697 - accuracy: 0.6625 - val_loss: 1.2386 - val_accuracy: 0.7984\n",
      "Epoch 7/15\n",
      "469/469 [==============================] - 68s 145ms/step - loss: 1.2546 - accuracy: 0.6924 - val_loss: 1.0162 - val_accuracy: 0.8125\n",
      "Epoch 8/15\n",
      "469/469 [==============================] - 68s 145ms/step - loss: 1.0852 - accuracy: 0.7153 - val_loss: 0.8515 - val_accuracy: 0.8268\n",
      "Epoch 9/15\n",
      "469/469 [==============================] - 68s 146ms/step - loss: 0.9608 - accuracy: 0.7353 - val_loss: 0.7354 - val_accuracy: 0.8377\n",
      "Epoch 10/15\n",
      "469/469 [==============================] - 69s 146ms/step - loss: 0.8685 - accuracy: 0.7538 - val_loss: 0.6523 - val_accuracy: 0.8469\n",
      "Epoch 11/15\n",
      "469/469 [==============================] - 81s 172ms/step - loss: 0.8004 - accuracy: 0.7660 - val_loss: 0.5922 - val_accuracy: 0.8558\n",
      "Epoch 12/15\n",
      "469/469 [==============================] - 80s 170ms/step - loss: 0.7496 - accuracy: 0.7768 - val_loss: 0.5468 - val_accuracy: 0.8620\n",
      "Epoch 13/15\n",
      "469/469 [==============================] - 95s 202ms/step - loss: 0.7039 - accuracy: 0.7903 - val_loss: 0.5113 - val_accuracy: 0.8692\n",
      "Epoch 14/15\n",
      "469/469 [==============================] - 93s 198ms/step - loss: 0.6692 - accuracy: 0.7998 - val_loss: 0.4827 - val_accuracy: 0.8756\n",
      "Epoch 15/15\n",
      "469/469 [==============================] - 76s 162ms/step - loss: 0.6389 - accuracy: 0.8080 - val_loss: 0.4589 - val_accuracy: 0.8796\n"
     ]
    }
   ],
   "source": [
    "my_model = model.fit(X_train, y_train, batch_size=128, epochs=15,verbose=1,validation_data=(X_test, y_test))"
   ]
  },
  {
   "cell_type": "code",
   "execution_count": 135,
   "id": "49a048b3",
   "metadata": {},
   "outputs": [
    {
     "name": "stdout",
     "output_type": "stream",
     "text": [
      "313/313 [==============================] - 3s 10ms/step - loss: 0.4589 - accuracy: 0.8796\n"
     ]
    }
   ],
   "source": [
    "score = model.evaluate(X_test,y_test)"
   ]
  },
  {
   "cell_type": "code",
   "execution_count": 136,
   "id": "94f35428",
   "metadata": {},
   "outputs": [
    {
     "name": "stdout",
     "output_type": "stream",
     "text": [
      "loss: 0.45887383818626404\n",
      "accuracy: 0.8795999884605408\n"
     ]
    }
   ],
   "source": [
    "print(\"loss:\",score[0])\n",
    "print(\"accuracy:\",score[1])"
   ]
  },
  {
   "cell_type": "code",
   "execution_count": 147,
   "id": "afb56c0d",
   "metadata": {},
   "outputs": [
    {
     "name": "stdout",
     "output_type": "stream",
     "text": [
      "313/313 [==============================] - 3s 10ms/step\n",
      "Classification report: \n",
      "               precision    recall  f1-score   support\n",
      "\n",
      "           0       0.91      0.97      0.94       980\n",
      "           1       0.91      0.97      0.94      1135\n",
      "           2       0.90      0.84      0.87      1032\n",
      "           3       0.85      0.89      0.87      1010\n",
      "           4       0.89      0.86      0.87       982\n",
      "           5       0.92      0.73      0.82       892\n",
      "           6       0.90      0.91      0.91       958\n",
      "           7       0.90      0.87      0.88      1028\n",
      "           8       0.83      0.85      0.84       974\n",
      "           9       0.82      0.88      0.85      1009\n",
      "\n",
      "    accuracy                           0.88     10000\n",
      "   macro avg       0.88      0.88      0.88     10000\n",
      "weighted avg       0.88      0.88      0.88     10000\n",
      "\n"
     ]
    }
   ],
   "source": [
    "from sklearn.metrics import classification_report,confusion_matrix\n",
    "y_pred = model.predict(X_test)\n",
    "y_pred_cls = [np.argmax(e) for e in y_pred]\n",
    "y_test_cls = [np.argmax(e) for e in y_test]\n",
    "print(\"Classification report: \\n\",classification_report(y_test_cls,y_pred_cls) )"
   ]
  },
  {
   "cell_type": "code",
   "execution_count": 149,
   "id": "ce9f22cc",
   "metadata": {},
   "outputs": [],
   "source": [
    "model.save('my_mnist.h5')"
   ]
  },
  {
   "cell_type": "code",
   "execution_count": 150,
   "id": "8209ebd4",
   "metadata": {},
   "outputs": [
    {
     "ename": "NameError",
     "evalue": "name 'pickle' is not defined",
     "output_type": "error",
     "traceback": [
      "\u001b[1;31m---------------------------------------------------------------------------\u001b[0m",
      "\u001b[1;31mNameError\u001b[0m                                 Traceback (most recent call last)",
      "\u001b[1;32m~\\AppData\\Local\\Temp\\ipykernel_4120\\1612070335.py\u001b[0m in \u001b[0;36m<module>\u001b[1;34m\u001b[0m\n\u001b[0;32m      1\u001b[0m \u001b[1;32mimport\u001b[0m \u001b[0mpickle\u001b[0m \u001b[1;32mas\u001b[0m \u001b[0mpkl\u001b[0m\u001b[1;33m\u001b[0m\u001b[1;33m\u001b[0m\u001b[0m\n\u001b[1;32m----> 2\u001b[1;33m \u001b[0mpickle\u001b[0m\u001b[1;33m.\u001b[0m\u001b[0mdump\u001b[0m\u001b[1;33m(\u001b[0m\u001b[0mmodel\u001b[0m\u001b[1;33m,\u001b[0m\u001b[0mopen\u001b[0m\u001b[1;33m(\u001b[0m\u001b[1;34m'new_mnist.pkl'\u001b[0m\u001b[1;33m,\u001b[0m\u001b[1;34m'wb'\u001b[0m\u001b[1;33m)\u001b[0m\u001b[1;33m)\u001b[0m\u001b[1;33m\u001b[0m\u001b[1;33m\u001b[0m\u001b[0m\n\u001b[0m",
      "\u001b[1;31mNameError\u001b[0m: name 'pickle' is not defined"
     ]
    }
   ],
   "source": [
    "import pickle as pkl\n",
    "pickle.dump(model,open('new_mnist.pkl','wb'))"
   ]
  },
  {
   "cell_type": "code",
   "execution_count": null,
   "id": "d335c4e5",
   "metadata": {},
   "outputs": [],
   "source": []
  }
 ],
 "metadata": {
  "kernelspec": {
   "display_name": "Python 3 (ipykernel)",
   "language": "python",
   "name": "python3"
  },
  "language_info": {
   "codemirror_mode": {
    "name": "ipython",
    "version": 3
   },
   "file_extension": ".py",
   "mimetype": "text/x-python",
   "name": "python",
   "nbconvert_exporter": "python",
   "pygments_lexer": "ipython3",
   "version": "3.9.13"
  }
 },
 "nbformat": 4,
 "nbformat_minor": 5
}
